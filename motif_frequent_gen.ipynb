{
 "cells": [
  {
   "cell_type": "markdown",
   "metadata": {},
   "source": [
    "# Analyse de la matrice bouléenne d'expression de gène selon les conditions"
   ]
  },
  {
   "cell_type": "code",
   "execution_count": 9,
   "metadata": {},
   "outputs": [],
   "source": [
    "import numpy as np\n",
    "import pandas as pd"
   ]
  },
  {
   "cell_type": "markdown",
   "metadata": {},
   "source": [
    "### Importation de la matrice et séparation entre exprimé negativement et positivement"
   ]
  },
  {
   "cell_type": "code",
   "execution_count": null,
   "metadata": {},
   "outputs": [
    {
     "name": "stdout",
     "output_type": "stream",
     "text": [
      "           WMCAATAATTRW_-317  TGTAAAGT_-280  CCAATGT_-275  GGATA_-263  \\\n",
      "AT1G01010                  0              0             0           0   \n",
      "AT1G01030                  0              0             0           0   \n",
      "AT1G01040                  0              0             0           0   \n",
      "AT1G01050                  0              0             0           0   \n",
      "AT1G01060                  0              0             0           0   \n",
      "...                      ...            ...           ...         ...   \n",
      "AT5G67550                  0              0             0           0   \n",
      "AT5G67560                  0              0             0           0   \n",
      "AT5G67590                  0              0             0           0   \n",
      "AT5G67620                  0              0             0           0   \n",
      "AT5G67630                  0              0             0           0   \n",
      "\n",
      "           TAACAAA_-261  HDTTAACAGAAWW_-260  AWTTAAWT_-239  RTTTTTR_-229  \\\n",
      "AT1G01010             0                   0              0             0   \n",
      "AT1G01030             0                   0              0             0   \n",
      "AT1G01040             0                   0              0             0   \n",
      "AT1G01050             0                   0              0             0   \n",
      "AT1G01060             0                   0              0             0   \n",
      "...                 ...                 ...            ...           ...   \n",
      "AT5G67550             0                   0              0             0   \n",
      "AT5G67560             0                   0              0             0   \n",
      "AT5G67590             0                   0              0             0   \n",
      "AT5G67620             0                   0              0             1   \n",
      "AT5G67630             0                   0              0             0   \n",
      "\n",
      "           TATCCA_-226  GRWAAW_-212  ...  SAGATCYRR_295  DYCACCGACAHH_312  \\\n",
      "AT1G01010            0            0  ...              0                 0   \n",
      "AT1G01030            0            1  ...              0                 0   \n",
      "AT1G01040            0            1  ...              0                 0   \n",
      "AT1G01050            0            1  ...              0                 0   \n",
      "AT1G01060            0            1  ...              0                 0   \n",
      "...                ...          ...  ...            ...               ...   \n",
      "AT5G67550            0            1  ...              0                 0   \n",
      "AT5G67560            0            0  ...              0                 0   \n",
      "AT5G67590            0            1  ...              0                 0   \n",
      "AT5G67620            0            0  ...              0                 0   \n",
      "AT5G67630            0            0  ...              0                 0   \n",
      "\n",
      "           GTGGWWHG_319  AGATCCAA_326  HYRGATCYRD_334  ATGTCGGYRR_344  \\\n",
      "AT1G01010             0             0               0               0   \n",
      "AT1G01030             0             0               0               0   \n",
      "AT1G01040             0             0               0               0   \n",
      "AT1G01050             0             0               0               0   \n",
      "AT1G01060             0             0               0               0   \n",
      "...                 ...           ...             ...             ...   \n",
      "AT5G67550             0             0               0               0   \n",
      "AT5G67560             0             0               0               0   \n",
      "AT5G67590             0             0               0               0   \n",
      "AT5G67620             0             0               0               0   \n",
      "AT5G67630             0             0               0               0   \n",
      "\n",
      "           YAGATCTR_353  CTGACY_367  ACNGCT_426  AGCAGC_444  \n",
      "AT1G01010             0           0           0           0  \n",
      "AT1G01030             0           0           0           0  \n",
      "AT1G01040             0           0           0           0  \n",
      "AT1G01050             0           0           0           0  \n",
      "AT1G01060             0           0           1           1  \n",
      "...                 ...         ...         ...         ...  \n",
      "AT5G67550             0           0           1           0  \n",
      "AT5G67560             0           1           0           1  \n",
      "AT5G67590             0           1           1           0  \n",
      "AT5G67620             0           1           0           1  \n",
      "AT5G67630             0           0           1           0  \n",
      "\n",
      "[10769 rows x 178 columns]\n"
     ]
    }
   ],
   "source": [
    "complete_data = pd.read_csv(\"data/expression_final.csv\", index_col=0)\n",
    "print(complete_data)"
   ]
  },
  {
   "cell_type": "code",
   "execution_count": 11,
   "metadata": {},
   "outputs": [
    {
     "name": "stdout",
     "output_type": "stream",
     "text": [
      "           WMCAATAATTRW_-317  TGTAAAGT_-280  CCAATGT_-275  GGATA_-263  \\\n",
      "AT1G01010              False          False         False       False   \n",
      "AT1G01030              False          False         False       False   \n",
      "AT1G01040              False          False         False       False   \n",
      "AT1G01050              False          False         False       False   \n",
      "AT1G01060              False          False         False       False   \n",
      "...                      ...            ...           ...         ...   \n",
      "AT5G67550              False          False         False       False   \n",
      "AT5G67560              False          False         False       False   \n",
      "AT5G67590              False          False         False       False   \n",
      "AT5G67620              False          False         False       False   \n",
      "AT5G67630              False          False         False       False   \n",
      "\n",
      "           TAACAAA_-261  HDTTAACAGAAWW_-260  AWTTAAWT_-239  RTTTTTR_-229  \\\n",
      "AT1G01010         False               False          False         False   \n",
      "AT1G01030         False               False          False         False   \n",
      "AT1G01040         False               False          False         False   \n",
      "AT1G01050         False               False          False         False   \n",
      "AT1G01060         False               False          False         False   \n",
      "...                 ...                 ...            ...           ...   \n",
      "AT5G67550         False               False          False         False   \n",
      "AT5G67560         False               False          False         False   \n",
      "AT5G67590         False               False          False         False   \n",
      "AT5G67620         False               False          False          True   \n",
      "AT5G67630         False               False          False         False   \n",
      "\n",
      "           TATCCA_-226  GRWAAW_-212  ...  SAGATCYRR_295  DYCACCGACAHH_312  \\\n",
      "AT1G01010        False        False  ...          False             False   \n",
      "AT1G01030        False         True  ...          False             False   \n",
      "AT1G01040        False         True  ...          False             False   \n",
      "AT1G01050        False         True  ...          False             False   \n",
      "AT1G01060        False         True  ...          False             False   \n",
      "...                ...          ...  ...            ...               ...   \n",
      "AT5G67550        False         True  ...          False             False   \n",
      "AT5G67560        False        False  ...          False             False   \n",
      "AT5G67590        False         True  ...          False             False   \n",
      "AT5G67620        False        False  ...          False             False   \n",
      "AT5G67630        False        False  ...          False             False   \n",
      "\n",
      "           GTGGWWHG_319  AGATCCAA_326  HYRGATCYRD_334  ATGTCGGYRR_344  \\\n",
      "AT1G01010         False         False           False           False   \n",
      "AT1G01030         False         False           False           False   \n",
      "AT1G01040         False         False           False           False   \n",
      "AT1G01050         False         False           False           False   \n",
      "AT1G01060         False         False           False           False   \n",
      "...                 ...           ...             ...             ...   \n",
      "AT5G67550         False         False           False           False   \n",
      "AT5G67560         False         False           False           False   \n",
      "AT5G67590         False         False           False           False   \n",
      "AT5G67620         False         False           False           False   \n",
      "AT5G67630         False         False           False           False   \n",
      "\n",
      "           YAGATCTR_353  CTGACY_367  ACNGCT_426  AGCAGC_444  \n",
      "AT1G01010         False       False       False       False  \n",
      "AT1G01030         False       False       False       False  \n",
      "AT1G01040         False       False       False       False  \n",
      "AT1G01050         False       False       False       False  \n",
      "AT1G01060         False       False        True        True  \n",
      "...                 ...         ...         ...         ...  \n",
      "AT5G67550         False       False        True       False  \n",
      "AT5G67560         False        True       False        True  \n",
      "AT5G67590         False        True        True       False  \n",
      "AT5G67620         False        True       False        True  \n",
      "AT5G67630         False       False        True       False  \n",
      "\n",
      "[10769 rows x 178 columns]\n"
     ]
    }
   ],
   "source": [
    "plus_data = np.where(complete_data == 1, True, False)\n",
    "plus_data = pd.DataFrame(plus_data, index=complete_data.index, columns=complete_data.columns)\n",
    "print(plus_data)"
   ]
  },
  {
   "cell_type": "code",
   "execution_count": 12,
   "metadata": {},
   "outputs": [
    {
     "name": "stdout",
     "output_type": "stream",
     "text": [
      "           WMCAATAATTRW_-317  TGTAAAGT_-280  CCAATGT_-275  GGATA_-263  \\\n",
      "AT1G01010              False          False         False       False   \n",
      "AT1G01030              False          False         False       False   \n",
      "AT1G01040              False          False         False       False   \n",
      "AT1G01050              False          False         False       False   \n",
      "AT1G01060              False          False         False       False   \n",
      "...                      ...            ...           ...         ...   \n",
      "AT5G67550              False          False         False       False   \n",
      "AT5G67560              False          False         False       False   \n",
      "AT5G67590              False          False         False       False   \n",
      "AT5G67620              False          False         False       False   \n",
      "AT5G67630              False          False         False       False   \n",
      "\n",
      "           TAACAAA_-261  HDTTAACAGAAWW_-260  AWTTAAWT_-239  RTTTTTR_-229  \\\n",
      "AT1G01010         False               False          False         False   \n",
      "AT1G01030         False               False          False         False   \n",
      "AT1G01040         False               False          False         False   \n",
      "AT1G01050         False               False          False         False   \n",
      "AT1G01060         False               False          False         False   \n",
      "...                 ...                 ...            ...           ...   \n",
      "AT5G67550         False               False          False         False   \n",
      "AT5G67560         False               False          False         False   \n",
      "AT5G67590         False               False          False         False   \n",
      "AT5G67620         False               False          False         False   \n",
      "AT5G67630         False               False          False         False   \n",
      "\n",
      "           TATCCA_-226  GRWAAW_-212  ...  SAGATCYRR_295  DYCACCGACAHH_312  \\\n",
      "AT1G01010        False        False  ...          False             False   \n",
      "AT1G01030        False        False  ...          False             False   \n",
      "AT1G01040        False        False  ...          False             False   \n",
      "AT1G01050        False        False  ...          False             False   \n",
      "AT1G01060        False        False  ...          False             False   \n",
      "...                ...          ...  ...            ...               ...   \n",
      "AT5G67550        False        False  ...          False             False   \n",
      "AT5G67560        False        False  ...          False             False   \n",
      "AT5G67590        False        False  ...          False             False   \n",
      "AT5G67620        False        False  ...          False             False   \n",
      "AT5G67630        False        False  ...          False             False   \n",
      "\n",
      "           GTGGWWHG_319  AGATCCAA_326  HYRGATCYRD_334  ATGTCGGYRR_344  \\\n",
      "AT1G01010         False         False           False           False   \n",
      "AT1G01030         False         False           False           False   \n",
      "AT1G01040         False         False           False           False   \n",
      "AT1G01050         False         False           False           False   \n",
      "AT1G01060         False         False           False           False   \n",
      "...                 ...           ...             ...             ...   \n",
      "AT5G67550         False         False           False           False   \n",
      "AT5G67560         False         False           False           False   \n",
      "AT5G67590         False         False           False           False   \n",
      "AT5G67620         False         False           False           False   \n",
      "AT5G67630         False         False           False           False   \n",
      "\n",
      "           YAGATCTR_353  CTGACY_367  ACNGCT_426  AGCAGC_444  \n",
      "AT1G01010         False       False       False       False  \n",
      "AT1G01030         False       False       False       False  \n",
      "AT1G01040         False       False       False       False  \n",
      "AT1G01050         False       False       False       False  \n",
      "AT1G01060         False       False       False       False  \n",
      "...                 ...         ...         ...         ...  \n",
      "AT5G67550         False       False       False       False  \n",
      "AT5G67560         False       False       False       False  \n",
      "AT5G67590         False       False       False       False  \n",
      "AT5G67620         False       False       False       False  \n",
      "AT5G67630         False       False       False       False  \n",
      "\n",
      "[10769 rows x 178 columns]\n"
     ]
    }
   ],
   "source": [
    "minus_data = np.where(complete_data == -1, True, False)\n",
    "minus_data = pd.DataFrame(minus_data, index=complete_data.index, columns=complete_data.columns)\n",
    "print(minus_data)"
   ]
  },
  {
   "cell_type": "code",
   "execution_count": 13,
   "metadata": {},
   "outputs": [],
   "source": [
    "# Verification ?"
   ]
  },
  {
   "cell_type": "markdown",
   "metadata": {},
   "source": [
    "### Exploration des motifs"
   ]
  },
  {
   "cell_type": "code",
   "execution_count": null,
   "metadata": {},
   "outputs": [],
   "source": []
  },
  {
   "cell_type": "markdown",
   "metadata": {},
   "source": [
    "### Implémentation du FP-Growth"
   ]
  },
  {
   "cell_type": "code",
   "execution_count": 21,
   "metadata": {},
   "outputs": [
    {
     "data": {
      "text/html": [
       "<div>\n",
       "<style scoped>\n",
       "    .dataframe tbody tr th:only-of-type {\n",
       "        vertical-align: middle;\n",
       "    }\n",
       "\n",
       "    .dataframe tbody tr th {\n",
       "        vertical-align: top;\n",
       "    }\n",
       "\n",
       "    .dataframe thead th {\n",
       "        text-align: right;\n",
       "    }\n",
       "</style>\n",
       "<table border=\"1\" class=\"dataframe\">\n",
       "  <thead>\n",
       "    <tr style=\"text-align: right;\">\n",
       "      <th></th>\n",
       "      <th>support</th>\n",
       "      <th>itemsets</th>\n",
       "    </tr>\n",
       "  </thead>\n",
       "  <tbody>\n",
       "    <tr>\n",
       "      <th>0</th>\n",
       "      <td>0.994243</td>\n",
       "      <td>(GATT_272)</td>\n",
       "    </tr>\n",
       "    <tr>\n",
       "      <th>1</th>\n",
       "      <td>0.719658</td>\n",
       "      <td>(GRWAAW_-212)</td>\n",
       "    </tr>\n",
       "    <tr>\n",
       "      <th>2</th>\n",
       "      <td>0.715201</td>\n",
       "      <td>(GATT_272, GRWAAW_-212)</td>\n",
       "    </tr>\n",
       "  </tbody>\n",
       "</table>\n",
       "</div>"
      ],
      "text/plain": [
       "    support                 itemsets\n",
       "0  0.994243               (GATT_272)\n",
       "1  0.719658            (GRWAAW_-212)\n",
       "2  0.715201  (GATT_272, GRWAAW_-212)"
      ]
     },
     "execution_count": 21,
     "metadata": {},
     "output_type": "execute_result"
    }
   ],
   "source": [
    "from mlxtend.frequent_patterns import fpgrowth\n",
    "\n",
    "fpgrowth(plus_data, min_support=0.6, use_colnames=True)"
   ]
  },
  {
   "cell_type": "code",
   "execution_count": 28,
   "metadata": {},
   "outputs": [
    {
     "data": {
      "text/html": [
       "<div>\n",
       "<style scoped>\n",
       "    .dataframe tbody tr th:only-of-type {\n",
       "        vertical-align: middle;\n",
       "    }\n",
       "\n",
       "    .dataframe tbody tr th {\n",
       "        vertical-align: top;\n",
       "    }\n",
       "\n",
       "    .dataframe thead th {\n",
       "        text-align: right;\n",
       "    }\n",
       "</style>\n",
       "<table border=\"1\" class=\"dataframe\">\n",
       "  <thead>\n",
       "    <tr style=\"text-align: right;\">\n",
       "      <th></th>\n",
       "      <th>support</th>\n",
       "      <th>itemsets</th>\n",
       "    </tr>\n",
       "  </thead>\n",
       "  <tbody>\n",
       "  </tbody>\n",
       "</table>\n",
       "</div>"
      ],
      "text/plain": [
       "Empty DataFrame\n",
       "Columns: [support, itemsets]\n",
       "Index: []"
      ]
     },
     "execution_count": 28,
     "metadata": {},
     "output_type": "execute_result"
    }
   ],
   "source": [
    "from mlxtend.frequent_patterns import fpgrowth\n",
    "\n",
    "fpgrowth(minus_data, min_support=0.01, use_colnames=True)"
   ]
  }
 ],
 "metadata": {
  "kernelspec": {
   "display_name": "base",
   "language": "python",
   "name": "python3"
  },
  "language_info": {
   "codemirror_mode": {
    "name": "ipython",
    "version": 3
   },
   "file_extension": ".py",
   "mimetype": "text/x-python",
   "name": "python",
   "nbconvert_exporter": "python",
   "pygments_lexer": "ipython3",
   "version": "3.12.4"
  }
 },
 "nbformat": 4,
 "nbformat_minor": 2
}
