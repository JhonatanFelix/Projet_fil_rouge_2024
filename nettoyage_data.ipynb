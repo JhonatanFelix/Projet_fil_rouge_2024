{
 "cells": [
  {
   "cell_type": "markdown",
   "id": "a4ec24c1",
   "metadata": {},
   "source": [
    "# <center>Nettoyage et transformation des données Projet fil rouge<center>\n",
    "    \n",
    "Dans le cadre du projet, la première étape que l'on se fixe sera le nettoyage des données et leur transformation en vue de leur exploitation. \n",
    "Nous avons commencé par effectuer une analyse exploratoire et une analyse des objets étudiés. "
   ]
  },
  {
   "cell_type": "markdown",
   "id": "8a2e8019",
   "metadata": {},
   "source": [
    "**Liste des transformations des données dans l'ordre :**\n",
    "- passage des noms de gènes en index dans logratio et pval\n",
    "- estimation des pvalues manquantes dans datapval\n",
    "- Construction d'une matrice d'expression discrète (codée en -1, 0, 1) et \n",
    "- Construction d'une matrice d'expression ne contenant que les informations relatives aux gènes communs aux 3 \n",
    "dataset. \n",
    "- tri des datasets finaux dans l'ordre alphabétique pour que l'ordre soit le même dans les deux"
   ]
  },
  {
   "cell_type": "code",
   "execution_count": 5,
   "id": "34eabe99",
   "metadata": {},
   "outputs": [],
   "source": [
    "#importation des bibliothèques \n",
    "\n",
    "import pandas as pd\n",
    "import matplotlib.pyplot as plt\n",
    "import numpy as np"
   ]
  },
  {
   "cell_type": "code",
   "execution_count": 6,
   "id": "e2c4fa7e",
   "metadata": {},
   "outputs": [],
   "source": [
    "# importation des données \n",
    "\n",
    "data_logratio = pd.read_csv(\"/Users/martinsimonoviez/Desktop/IODAA/cours/Projet_fil_rouge/transfer_8556894_files_4b5d2f58/LOG_RATIO_GEM2NET_UNIQLINK\", sep='\\t')\n",
    "data_pval = pd.read_csv(\"/Users/martinsimonoviez/Desktop/IODAA/cours/Projet_fil_rouge/transfer_8556894_files_4b5d2f58/BONF_PVAL_GEM2NET_UNIQLINK\", sep='\\t')\n",
    "data_PLM = pd.read_csv(\"/Users/martinsimonoviez/Desktop/IODAA/cours/Projet_fil_rouge/transfer_8556894_files_4b5d2f58/matricePLM_genes.txt\", sep=\"\\t\")"
   ]
  },
  {
   "cell_type": "markdown",
   "id": "e39a931a",
   "metadata": {},
   "source": [
    "## Informations sur les dataframes"
   ]
  },
  {
   "cell_type": "markdown",
   "id": "047747d6",
   "metadata": {},
   "source": [
    "### Dimensions des dataframes"
   ]
  },
  {
   "cell_type": "code",
   "execution_count": 7,
   "id": "d9df602c",
   "metadata": {},
   "outputs": [
    {
     "name": "stdout",
     "output_type": "stream",
     "text": [
      "Dimensions de data_logratio :  (17543, 388)\n",
      "Dimensions de data_pval :  (17543, 388)\n",
      "Dimensions de data_PLM :  (13854, 178)\n"
     ]
    }
   ],
   "source": [
    "# Forme des données \n",
    "print(\"Dimensions de data_logratio : \", data_logratio.shape)\n",
    "print(\"Dimensions de data_pval : \", data_pval.shape)\n",
    "print(\"Dimensions de data_PLM : \", data_PLM.shape)"
   ]
  },
  {
   "cell_type": "markdown",
   "id": "ebc3a270",
   "metadata": {},
   "source": [
    "3 dataframes, dont 1 de dimensions différentes à celles des 2 autres. Nombre de colonnes diffère, ce qui est normal, mais nombre de gènes devrait être pareil, donc il va y avoir une étape d'analyse des données pour détecter les gènes communs aux trois dataframes, les seuls qui pourront être utilisés dans le cadre du projet.  "
   ]
  },
  {
   "cell_type": "code",
   "execution_count": 8,
   "id": "957048da",
   "metadata": {},
   "outputs": [
    {
     "name": "stdout",
     "output_type": "stream",
     "text": [
      "Premières lignes de data_logratio : \n",
      " <bound method NDFrame.head of       Unnamed: 0    1101    1104      29      30    1977    1973    1980  \\\n",
      "0      AT3G32130 -0.0063 -0.0319 -0.0535  0.0539 -0.0541  0.1612  0.1375   \n",
      "1      AT5G53730  0.0247  0.0287  0.0691  0.3603  1.0438  0.2848 -0.1228   \n",
      "2      AT2G19210  0.1895  0.1205 -0.0512  0.0279 -0.1157 -0.0385  0.0287   \n",
      "3      AT1G07530 -0.2080  0.5245  1.0013  2.1038  0.6395  0.6406  0.1282   \n",
      "4      AT1G03190 -0.1249  0.0234  0.0858  0.0602 -0.0499  0.0002 -0.1022   \n",
      "...          ...     ...     ...     ...     ...     ...     ...     ...   \n",
      "17538  AT1G30640 -0.0700  0.1021 -0.0042 -0.0584  0.1292  0.0087  0.0016   \n",
      "17539  AT1G04440 -0.0222  0.0183  0.0009 -0.0183  0.3002  0.1409 -0.1079   \n",
      "17540  AT3G33009 -0.1653  0.1816 -0.1398  0.1349 -0.0470 -0.1024 -0.1091   \n",
      "17541  AT3G19323 -0.0701  0.0792 -0.0177 -0.0464 -0.0415 -0.1061  0.0631   \n",
      "17542  AT2G17280  0.0794 -0.0722  0.0373 -0.1013  0.0137  0.0845 -0.1697   \n",
      "\n",
      "         1976    1978  ...    1563     796     797     799     800     798  \\\n",
      "0      0.0855 -0.0129  ... -0.0381  0.0754 -0.0046  0.0124  0.0528 -0.1200   \n",
      "1     -0.1286  0.8058  ... -0.2150  2.0255 -0.5948  0.4510 -0.4049  0.2374   \n",
      "2     -0.2344 -0.0208  ...  0.1138 -0.3361 -0.0302 -0.0918  0.1660 -0.0140   \n",
      "3      0.0052  0.3991  ...  0.5470  1.5139 -0.1743 -0.3285 -0.6005 -1.2978   \n",
      "4     -0.0845 -0.0529  ... -0.0383  0.0694  0.1329  0.1606 -0.0272 -0.1670   \n",
      "...       ...     ...  ...     ...     ...     ...     ...     ...     ...   \n",
      "17538  0.0647  0.0798  ... -0.0111  0.2416 -0.0801 -0.3809 -0.0852 -0.1196   \n",
      "17539 -0.2619 -0.0341  ...  0.3810 -0.4113  0.0959  0.0438  0.1277 -0.0048   \n",
      "17540 -0.0876 -0.0830  ...  0.0998 -0.0687  0.1454 -0.0595  0.0116 -0.0322   \n",
      "17541 -0.1207  0.0121  ... -0.0559 -0.1001 -0.0663 -0.0614 -0.0529 -0.0150   \n",
      "17542 -0.2337  0.0192  ...  0.0369  0.0380 -0.0822 -0.0425 -0.1142  0.2083   \n",
      "\n",
      "          801    1296    1677    1672  \n",
      "0      0.0840  0.0561 -0.0201  0.0658  \n",
      "1      1.2723 -0.1189 -0.3150  1.1916  \n",
      "2      0.0029  0.0803  0.0774  0.2853  \n",
      "3      0.4893  0.8479  0.8710  1.0386  \n",
      "4      0.0168 -0.0693 -0.0241  0.0399  \n",
      "...       ...     ...     ...     ...  \n",
      "17538 -0.2293  0.0200  0.0539  0.1078  \n",
      "17539 -0.0009  0.3030 -0.3777  0.3301  \n",
      "17540 -0.3136  0.0575  0.0982 -0.0743  \n",
      "17541  0.0750  0.1193  0.0434 -0.0265  \n",
      "17542 -0.1739 -0.0206  0.1674 -0.0184  \n",
      "\n",
      "[17543 rows x 388 columns]>\n",
      "Premières lignes de data_pval : \n",
      " <bound method NDFrame.head of       Unnamed: 0  1101  1104      29   30    1977    1973  1980  1976    1978  \\\n",
      "0      AT3G32130   1.0   1.0  1.0000  1.0  1.0000  1.0000   1.0   1.0  1.0000   \n",
      "1      AT5G53730   1.0   1.0  1.0000  1.0  0.0000  1.0000   1.0   1.0  0.0007   \n",
      "2      AT2G19210   1.0   1.0  1.0000  1.0  1.0000  1.0000   1.0   1.0  1.0000   \n",
      "3      AT1G07530   1.0   1.0  0.0001  0.0  0.0376  0.3441   1.0   1.0  1.0000   \n",
      "4      AT1G03190   1.0   1.0  1.0000  1.0  1.0000  1.0000   1.0   1.0  1.0000   \n",
      "...          ...   ...   ...     ...  ...     ...     ...   ...   ...     ...   \n",
      "17538  AT1G30640   1.0   1.0  1.0000  1.0  1.0000  1.0000   1.0   1.0  1.0000   \n",
      "17539  AT1G04440   1.0   1.0  1.0000  1.0  1.0000  1.0000   1.0   1.0  1.0000   \n",
      "17540  AT3G33009   1.0   1.0  1.0000  1.0  1.0000  1.0000   1.0   1.0  1.0000   \n",
      "17541  AT3G19323   1.0   1.0  1.0000  1.0  1.0000  1.0000   1.0   1.0  1.0000   \n",
      "17542  AT2G17280   1.0   1.0  1.0000  1.0  1.0000  1.0000   1.0   1.0  1.0000   \n",
      "\n",
      "       ...  1563  796     797  799     800  798  801  1296  1677  1672  \n",
      "0      ...   1.0  1.0  1.0000  1.0  1.0000  1.0  1.0   1.0   1.0   1.0  \n",
      "1      ...   1.0  0.0  0.9291  1.0  1.0000  1.0  0.0   1.0   1.0   0.0  \n",
      "2      ...   1.0  1.0  1.0000  1.0  1.0000  1.0  1.0   1.0   1.0   1.0  \n",
      "3      ...   1.0  0.0  1.0000  1.0  0.7947  0.0  1.0   0.0   0.0   0.0  \n",
      "4      ...   1.0  1.0  1.0000  1.0  1.0000  1.0  1.0   1.0   1.0   1.0  \n",
      "...    ...   ...  ...     ...  ...     ...  ...  ...   ...   ...   ...  \n",
      "17538  ...   1.0  1.0  1.0000  1.0  1.0000  1.0  1.0   1.0   1.0   1.0  \n",
      "17539  ...   1.0  1.0  1.0000  1.0  1.0000  1.0  1.0   1.0   1.0   1.0  \n",
      "17540  ...   1.0  1.0  1.0000  1.0  1.0000  1.0  1.0   1.0   1.0   1.0  \n",
      "17541  ...   1.0  1.0  1.0000  1.0  1.0000  1.0  1.0   1.0   1.0   1.0  \n",
      "17542  ...   1.0  1.0  1.0000  1.0  1.0000  1.0  1.0   1.0   1.0   1.0  \n",
      "\n",
      "[17543 rows x 388 columns]>\n",
      "Premières lignes de data_PLM : \n",
      " <bound method NDFrame.head of            WMCAATAATTRW_-317  TGTAAAGT_-280  CCAATGT_-275  GGATA_-263  \\\n",
      "AT5G09440                  0              0             0           0   \n",
      "AT3G29320                  0              0             0           0   \n",
      "AT5G59570                  0              0             0           0   \n",
      "AT3G55830                  0              0             0           0   \n",
      "AT3G16140                  0              0             0           0   \n",
      "...                      ...            ...           ...         ...   \n",
      "AT2G03670                  0              0             0           0   \n",
      "AT3G12530                  0              0             0           0   \n",
      "AT5G40780                  0              0             0           0   \n",
      "AT1G56280                  0              0             0           0   \n",
      "AT2G03620                  0              0             0           0   \n",
      "\n",
      "           TAACAAA_-261  HDTTAACAGAAWW_-260  AWTTAAWT_-239  RTTTTTR_-229  \\\n",
      "AT5G09440             0                   0              0             0   \n",
      "AT3G29320             0                   0              0             0   \n",
      "AT5G59570             0                   0              0             0   \n",
      "AT3G55830             0                   0              0             0   \n",
      "AT3G16140             0                   0              0             1   \n",
      "...                 ...                 ...            ...           ...   \n",
      "AT2G03670             0                   0              0             0   \n",
      "AT3G12530             0                   0              0             0   \n",
      "AT5G40780             0                   0              0             0   \n",
      "AT1G56280             0                   0              0             0   \n",
      "AT2G03620             0                   0              0             0   \n",
      "\n",
      "           TATCCA_-226  GRWAAW_-212  ...  SAGATCYRR_295  DYCACCGACAHH_312  \\\n",
      "AT5G09440            0            1  ...              0                 0   \n",
      "AT3G29320            0            1  ...              0                 0   \n",
      "AT5G59570            0            0  ...              1                 0   \n",
      "AT3G55830            0            1  ...              1                 0   \n",
      "AT3G16140            0            1  ...              0                 0   \n",
      "...                ...          ...  ...            ...               ...   \n",
      "AT2G03670            0            0  ...              0                 0   \n",
      "AT3G12530            0            1  ...              0                 0   \n",
      "AT5G40780            0            0  ...              0                 0   \n",
      "AT1G56280            0            1  ...              0                 0   \n",
      "AT2G03620            0            0  ...              0                 0   \n",
      "\n",
      "           GTGGWWHG_319  AGATCCAA_326  HYRGATCYRD_334  ATGTCGGYRR_344  \\\n",
      "AT5G09440             0             0               0               0   \n",
      "AT3G29320             0             0               0               0   \n",
      "AT5G59570             0             0               1               0   \n",
      "AT3G55830             0             0               0               0   \n",
      "AT3G16140             0             0               0               0   \n",
      "...                 ...           ...             ...             ...   \n",
      "AT2G03670             0             0               0               0   \n",
      "AT3G12530             0             0               0               0   \n",
      "AT5G40780             0             0               0               0   \n",
      "AT1G56280             0             0               0               0   \n",
      "AT2G03620             0             0               0               0   \n",
      "\n",
      "           YAGATCTR_353  CTGACY_367  ACNGCT_426  AGCAGC_444  \n",
      "AT5G09440             0           0           1           0  \n",
      "AT3G29320             0           0           0           1  \n",
      "AT5G59570             0           0           1           0  \n",
      "AT3G55830             0           0           0           0  \n",
      "AT3G16140             0           0           0           0  \n",
      "...                 ...         ...         ...         ...  \n",
      "AT2G03670             0           0           1           0  \n",
      "AT3G12530             0           0           0           0  \n",
      "AT5G40780             0           0           0           0  \n",
      "AT1G56280             0           0           0           0  \n",
      "AT2G03620             0           0           0           0  \n",
      "\n",
      "[13854 rows x 178 columns]>\n"
     ]
    }
   ],
   "source": [
    "# affichage des premières variables dataframe\n",
    "print(\"Premières lignes de data_logratio : \\n\", data_logratio.head)\n",
    "print(\"Premières lignes de data_pval : \\n\", data_pval.head)\n",
    "print(\"Premières lignes de data_PLM : \\n\", data_PLM.head)"
   ]
  },
  {
   "cell_type": "markdown",
   "id": "1d9d128d",
   "metadata": {},
   "source": [
    "Premier point de vigilance : nom des gènes dans la 1ere colonne pour logratio et pval mais dans l'index pour PLM. On rectifie ça : "
   ]
  },
  {
   "cell_type": "code",
   "execution_count": 9,
   "id": "56cd8d09",
   "metadata": {},
   "outputs": [],
   "source": [
    "data_logratio.index , data_pval.index = data_logratio['Unnamed: 0'], data_pval['Unnamed: 0']\n",
    "data_logratio = data_logratio.drop(columns=['Unnamed: 0'])\n",
    "data_pval = data_pval.drop(columns=['Unnamed: 0'])"
   ]
  },
  {
   "cell_type": "code",
   "execution_count": 10,
   "id": "7da9e038",
   "metadata": {},
   "outputs": [
    {
     "name": "stdout",
     "output_type": "stream",
     "text": [
      "Colonnes de data_pval et data_logratio identiques et dans le même ordre :  [ True]\n",
      "Lignes de data_pval et data_logratio identiques et dans le même ordre :  [ True]\n"
     ]
    }
   ],
   "source": [
    "# Est ce que les lignes et colonnes sont identiques et dans le même ordre entre data_pvalue et data_logratio ? \n",
    "print(\"Colonnes de data_pval et data_logratio identiques et dans le même ordre : \", np.unique(data_pval.columns == data_logratio.columns))\n",
    "print(\"Lignes de data_pval et data_logratio identiques et dans le même ordre : \", np.unique(data_pval.index == data_logratio.index))"
   ]
  },
  {
   "cell_type": "markdown",
   "id": "7447061c",
   "metadata": {},
   "source": [
    "Bien dans le même ordre, on peut donc faire des concaténations ou des comparaisons ligne à ligne ou colonne à colonne entre les deux sans se planter. "
   ]
  },
  {
   "cell_type": "markdown",
   "id": "94168040",
   "metadata": {},
   "source": [
    "### Exploration des valeurs manquantes"
   ]
  },
  {
   "cell_type": "markdown",
   "id": "9d73d846",
   "metadata": {},
   "source": [
    "#### Général"
   ]
  },
  {
   "cell_type": "code",
   "execution_count": 11,
   "id": "021bb8a1",
   "metadata": {},
   "outputs": [
    {
     "name": "stdout",
     "output_type": "stream",
     "text": [
      "Nombre de NA dans data_logratio :  523 \n",
      "Nombre de NA dans data_pval :  34957 \n",
      "Nombre de NA dans data_PLM :  0 \n",
      "\n"
     ]
    }
   ],
   "source": [
    "nombre_na_logratio = data_logratio.isna().values.sum() \n",
    "nombre_na_pval = data_pval.isna().values.sum()\n",
    "nombre_na_PLM = data_PLM.isna().values.sum()\n",
    "\n",
    "print(\"Nombre de NA dans data_logratio : \", nombre_na_logratio, \"\\n\"\n",
    "     \"Nombre de NA dans data_pval : \", nombre_na_pval, \"\\n\"\n",
    "     \"Nombre de NA dans data_PLM : \", nombre_na_PLM, \"\\n\")"
   ]
  },
  {
   "cell_type": "markdown",
   "id": "c77adc96",
   "metadata": {},
   "source": [
    "On a : aucune valeur manquante dans data_PLM, peu de valeurs manquantes dans data_logratio et beaucoup de valeurs manquantes dans data_pval. \n",
    "Regardons plus précisément où celles ci sont présentes. "
   ]
  },
  {
   "cell_type": "markdown",
   "id": "4f19a6d0",
   "metadata": {},
   "source": [
    "#### Répartition\n",
    "\n",
    "##### Par colonnes"
   ]
  },
  {
   "cell_type": "code",
   "execution_count": 12,
   "id": "a1074d28",
   "metadata": {},
   "outputs": [
    {
     "data": {
      "text/plain": [
       "Text(0.5, 1.0, 'Nombre de Na par colonnes de data_pval')"
      ]
     },
     "execution_count": 12,
     "metadata": {},
     "output_type": "execute_result"
    },
    {
     "data": {
      "image/png": "[encoded data removed]",
      "text/plain": [
       "<Figure size 1584x504 with 1 Axes>"
      ]
     },
     "metadata": {
      "needs_background": "light"
     },
     "output_type": "display_data"
    },
    {
     "data": {
      "image/png": "[encoded data removed]",
      "text/plain": [
       "<Figure size 1584x504 with 1 Axes>"
      ]
     },
     "metadata": {
      "needs_background": "light"
     },
     "output_type": "display_data"
    }
   ],
   "source": [
    "na_logratio_colonnes = data_logratio.isna().sum(axis=0)\n",
    "plt.figure(figsize=(22,7))\n",
    "plt.bar(na_logratio_colonnes.index, na_logratio_colonnes)\n",
    "plt.xticks(rotation=90)\n",
    "plt.title(\"Nombre de Na par colonnes de data_logratio\")\n",
    "\n",
    "na_pval_colonnes = data_pval.isna().sum(axis=0)\n",
    "plt.figure(figsize=(22,7))\n",
    "plt.bar(na_pval_colonnes.index, na_pval_colonnes)\n",
    "plt.xticks(rotation=90)\n",
    "plt.title(\"Nombre de Na par colonnes de data_pval\")"
   ]
  },
  {
   "cell_type": "markdown",
   "id": "0e6576d4",
   "metadata": {},
   "source": [
    "Bien que certaines colonnes présentent un nombre assez anormalement élevé de NA, celles ci sont réparties entre toutes les colonnes et leur nombre dans une colonne de dépasse jamais les 3.5% (620/174543). \n",
    "Nous n'éliminerons donc pas de colonnes pour effectuer la suite des analyses. "
   ]
  },
  {
   "cell_type": "markdown",
   "id": "90eec0aa",
   "metadata": {},
   "source": [
    "##### Par lignes"
   ]
  },
  {
   "cell_type": "code",
   "execution_count": 13,
   "id": "1eb687fa",
   "metadata": {},
   "outputs": [
    {
     "data": {
      "text/plain": [
       "Text(0, 0.5, 'Nombre de lignes concernées')"
      ]
     },
     "execution_count": 13,
     "metadata": {},
     "output_type": "execute_result"
    },
    {
     "data": {
      "image/png": "[encoded data removed]",
      "text/plain": [
       "<Figure size 864x360 with 2 Axes>"
      ]
     },
     "metadata": {
      "needs_background": "light"
     },
     "output_type": "display_data"
    }
   ],
   "source": [
    "plt.figure(figsize=(12,5))\n",
    "\n",
    "na_logratio_lignes = data_logratio.isna().sum(axis=1)\n",
    "plt.subplot(1,2,1)\n",
    "plt.hist(na_logratio_lignes)\n",
    "plt.title(\"Répartition du nombre de nA par lignes dans data_logratio\")\n",
    "plt.xlabel(\"Nombre de NA\")\n",
    "plt.ylabel(\"Nombre de lignes concernées\")\n",
    "\n",
    "na_pval_lignes = data_pval.isna().sum(axis=1)\n",
    "plt.subplot(1,2,2)\n",
    "plt.hist(na_pval_lignes)\n",
    "plt.title(\"Répartition du nombre de nA par lignes dans data_pval\")\n",
    "plt.xlabel(\"Nombre de NA\")\n",
    "plt.ylabel(\"Nombre de lignes concernées\")"
   ]
  },
  {
   "cell_type": "code",
   "execution_count": 14,
   "id": "f361008b",
   "metadata": {},
   "outputs": [
    {
     "data": {
      "text/plain": [
       "Text(0, 0.5, 'Nombre de lignes concernées')"
      ]
     },
     "execution_count": 14,
     "metadata": {},
     "output_type": "execute_result"
    },
    {
     "data": {
      "image/png": "[encoded data removed]",
      "text/plain": [
       "<Figure size 864x360 with 2 Axes>"
      ]
     },
     "metadata": {
      "needs_background": "light"
     },
     "output_type": "display_data"
    }
   ],
   "source": [
    "plt.figure(figsize=(12,5))\n",
    "na_pval_lignesinf10 = na_pval_lignes[na_pval_lignes<=10]\n",
    "plt.subplot(1,2,1)\n",
    "plt.hist(na_pval_lignesinf10, bins=11, range=(0,10), align='left')\n",
    "plt.xticks(np.arange(0,11,1))\n",
    "plt.title(\"Répartition du nombre de nA par lignes \\n dans data_pval (ligne à - de 10na)\")\n",
    "plt.xlabel(\"Nombre de NA\")\n",
    "plt.ylabel(\"Nombre de lignes concernées\")\n",
    "\n",
    "na_pval_lignessup10 = na_pval_lignes[na_pval_lignes>=10]\n",
    "plt.subplot(1,2,2)\n",
    "plt.hist(na_pval_lignessup10, bins=19, range=(10,200), align='left')\n",
    "plt.xticks(np.arange(10,210,10))\n",
    "plt.title(\"Répartition du nombre de nA par lignes \\n dans data_pval (ligne à + de 10na)\")\n",
    "plt.xlabel(\"Nombre de NA\")\n",
    "plt.ylabel(\"Nombre de lignes concernées\")"
   ]
  },
  {
   "cell_type": "markdown",
   "id": "c624fd3b",
   "metadata": {},
   "source": [
    "Dans data_pval, grande majorité des lignes présentent un nombre faible de na mais quelques unes en présentent beaucoup, (certaines entre 100 et 200), on les éliminera donc au traitement. La gestion des na dans le cadre de pvalues semble compliquée => en effet on ne peut pas estimer par la moyenne l'expression du gène. \n",
    "\n",
    "Méthode : \n",
    "- on va regarder si corrélation entre pvalue et log-ratio peut nous permettre d'estimer quelles pvalues sont suceptibles d'être en dessous ou au dessus de 0.05"
   ]
  },
  {
   "cell_type": "markdown",
   "id": "5f57dc12",
   "metadata": {},
   "source": [
    "### Relation entre pvalue et logratio pour estimer les p-values manquantes. \n",
    "\n",
    "On commence arbitrairement par étudier la relation entre logratio et pvalue pour les valeurs dans le premier stress "
   ]
  },
  {
   "cell_type": "markdown",
   "id": "067ce007",
   "metadata": {},
   "source": [
    "#### Etude graphique"
   ]
  },
  {
   "cell_type": "code",
   "execution_count": 15,
   "id": "1a3b2ed9",
   "metadata": {},
   "outputs": [
    {
     "data": {
      "text/plain": [
       "<matplotlib.collections.PathCollection at 0x7ff411be7d60>"
      ]
     },
     "execution_count": 15,
     "metadata": {},
     "output_type": "execute_result"
    },
    {
     "data": {
      "image/png": "[encoded data removed]",
      "text/plain": [
       "<Figure size 432x288 with 1 Axes>"
      ]
     },
     "metadata": {
      "needs_background": "light"
     },
     "output_type": "display_data"
    }
   ],
   "source": [
    "plt.figure()\n",
    "plt.scatter(x=data_logratio.iloc[:,2], y=data_pval.iloc[:,2], c='red')"
   ]
  },
  {
   "cell_type": "markdown",
   "id": "ac6c1bfc",
   "metadata": {},
   "source": [
    "Exactement ce qu'on attendait ! les valeurs de log-ratio extrêmes sont associées à des pvalues faible. On peut donc peut être proposer une estimation des pvalues manquantes à partir des logratio associés puisque il n'y a presque pas de na dans les données de logratio. \n",
    "On va juste regarder si les p-values manquantes ne sont pas concentrées sur les points de rupture de la courbe du dessus, sinon ça pourrait compromettre leur estimation. "
   ]
  },
  {
   "cell_type": "code",
   "execution_count": 16,
   "id": "e839c0f7",
   "metadata": {},
   "outputs": [
    {
     "name": "stdout",
     "output_type": "stream",
     "text": [
      "Unnamed: 0\n",
      "AT2G22540    0.4658\n",
      "AT3G19360   -0.0526\n",
      "AT1G60200    0.8603\n",
      "AT2G43130    0.7237\n",
      "AT5G43760   -0.7112\n",
      "AT3G16640    0.6952\n",
      "AT5G67500   -0.4605\n",
      "AT3G15480   -0.1197\n",
      "AT1G73870    2.1536\n",
      "AT1G08880   -0.8391\n",
      "Name: 29, dtype: float64\n"
     ]
    }
   ],
   "source": [
    "#récup des logratios associés aux pvalues de la première valeur\n",
    "indice_na_pval_colonne2 = data_pval.iloc[:,2].isna() #indice des na dans la colonne 2 de pval\n",
    "log_na_pval =  data_logratio.iloc[:,2][indice_na_pval_colonne2] #logratios correspondants aux na dans la colonne 2 de pval\n",
    "print(log_na_pval[:10])\n",
    "\n",
    "#plt.figure()\n",
    "#plt.scatter(x=data_logratio.iloc[:,2], y=data_pval.iloc[:,2], c='red')\n"
   ]
  },
  {
   "cell_type": "markdown",
   "id": "189c95ff",
   "metadata": {},
   "source": [
    "C'est ok, les logratios associés aux pvalues manquantes (toujours que pour la colonne 2) sont bien répartis entre autour de 0, là ou les pvalues sont toutes égales à 1. "
   ]
  },
  {
   "cell_type": "markdown",
   "id": "00ec6e1d",
   "metadata": {},
   "source": [
    "#### Proposition et évaluation d'un algo d'estimation des pvalues manquantes. \n",
    "On entraine l'algo sur les données de la colonne 2 encore, (puis on verra si ça marche bien partout après)"
   ]
  },
  {
   "cell_type": "code",
   "execution_count": 18,
   "id": "89c8f1a8",
   "metadata": {
    "scrolled": true
   },
   "outputs": [
    {
     "name": "stdout",
     "output_type": "stream",
     "text": [
      "MAPE : 3.1400155628566492e-06\n"
     ]
    }
   ],
   "source": [
    "from sklearn.tree import DecisionTreeRegressor\n",
    "from sklearn.model_selection import cross_val_score\n",
    "from sklearn.metrics import mean_squared_error\n",
    "from sklearn.model_selection import train_test_split\n",
    "X, y = data_logratio.iloc[np.where(~data_pval.iloc[:,1].isna() & ~data_logratio.iloc[:,1].isna())[0], 1], data_pval.iloc[np.where(~data_pval.iloc[:,1].isna() & ~data_logratio.iloc[:,1].isna())[0], 1]\n",
    "X_train, X_test, y_train, y_test = train_test_split(X, y, test_size=0.33, random_state=42)\n",
    "X_train, X_test = X_train.to_numpy().reshape(-1, 1), X_test.to_numpy().reshape(-1, 1)\n",
    "\n",
    "\n",
    "mod = DecisionTreeRegressor()\n",
    "mod.fit(X_train, y_train)\n",
    "yhat = mod.predict(X_test)\n",
    "MAPE = mean_squared_error(y_test, yhat)\n",
    "\n",
    "print(\"MAPE :\", MAPE)"
   ]
  },
  {
   "cell_type": "markdown",
   "id": "aa4105d6",
   "metadata": {},
   "source": [
    "Donc ça marche super bien ! On va maintenant le tester sur les autres colonnes pour voir si le même algo marche pour d'autres types de stress"
   ]
  },
  {
   "cell_type": "code",
   "execution_count": 19,
   "id": "1a55762c",
   "metadata": {},
   "outputs": [
    {
     "name": "stdout",
     "output_type": "stream",
     "text": [
      "Unnamed: 0\n",
      "AT3G32130    1.0\n",
      "AT5G53730    1.0\n",
      "AT2G19210    1.0\n",
      "AT1G07530    1.0\n",
      "AT1G03190    1.0\n",
      "            ... \n",
      "AT1G30640    1.0\n",
      "AT1G04440    1.0\n",
      "AT3G33009    1.0\n",
      "AT3G19323    1.0\n",
      "AT2G17280    1.0\n",
      "Name: 1101, Length: 17543, dtype: float64\n"
     ]
    }
   ],
   "source": [
    "print(data_pval.iloc[:,0])"
   ]
  },
  {
   "cell_type": "code",
   "execution_count": 20,
   "id": "c1ca5aa4",
   "metadata": {},
   "outputs": [],
   "source": [
    "L_mape_colonnes = []\n",
    "for k in range(data_pval.shape[1]): \n",
    "    X_test = data_logratio.iloc[np.where(~data_pval.iloc[:,k].isna() & ~data_logratio.iloc[:,k].isna())[0],k]\n",
    "    X_test = X_test.to_numpy().reshape(-1, 1)\n",
    "    y_test = data_pval.iloc[np.where(~data_pval.iloc[:,k].isna() & ~data_logratio.iloc[:,k].isna())[0],k]\n",
    "    yhat = mod.predict(X_test)\n",
    "    L_mape_colonnes.append(mean_squared_error(y_test, yhat))"
   ]
  },
  {
   "cell_type": "code",
   "execution_count": 21,
   "id": "2fae72fb",
   "metadata": {},
   "outputs": [
    {
     "data": {
      "text/plain": [
       "<BarContainer object of 387 artists>"
      ]
     },
     "execution_count": 21,
     "metadata": {},
     "output_type": "execute_result"
    },
    {
     "data": {
      "image/png": "[encoded data removed]",
      "text/plain": [
       "<Figure size 432x288 with 1 Axes>"
      ]
     },
     "metadata": {
      "needs_background": "light"
     },
     "output_type": "display_data"
    }
   ],
   "source": [
    "plt.figure()\n",
    "plt.bar(np.arange(data_pval.shape[1]), L_mape_colonnes)"
   ]
  },
  {
   "cell_type": "markdown",
   "id": "376088f3",
   "metadata": {},
   "source": [
    "Ici MSE faibles mais hétérogènes, donc on va peut être refaire un algo à chaque colonne."
   ]
  },
  {
   "cell_type": "code",
   "execution_count": 22,
   "id": "c458802e",
   "metadata": {},
   "outputs": [],
   "source": [
    "L_mape_colonnes2 = []\n",
    "for k in range(data_pval.shape[1]): \n",
    "    #def des variables\n",
    "    X = data_logratio.iloc[np.where(~data_pval.iloc[:,k].isna() & ~data_logratio.iloc[:,k].isna())[0],k]\n",
    "    y = data_pval.iloc[np.where(~data_pval.iloc[:,k].isna() & ~data_logratio.iloc[:,k].isna())[0],k]\n",
    "    X_train, X_test, y_train, y_test = train_test_split(X, y, test_size=0.33, random_state=42)\n",
    "    X_train, X_test = X_train.to_numpy().reshape(-1, 1), X_test.to_numpy().reshape(-1, 1)\n",
    "    #entrainement des modèles et stockage performances\n",
    "    mod = DecisionTreeRegressor()\n",
    "    mod.fit(X_train, y_train)\n",
    "    yhat = mod.predict(X_test)\n",
    "    L_mape_colonnes2.append(mean_squared_error(y_test, yhat))\n"
   ]
  },
  {
   "cell_type": "code",
   "execution_count": 23,
   "id": "e390a111",
   "metadata": {},
   "outputs": [
    {
     "data": {
      "text/plain": [
       "<BarContainer object of 387 artists>"
      ]
     },
     "execution_count": 23,
     "metadata": {},
     "output_type": "execute_result"
    },
    {
     "data": {
      "image/png": "[encoded data removed]",
      "text/plain": [
       "<Figure size 432x288 with 1 Axes>"
      ]
     },
     "metadata": {
      "needs_background": "light"
     },
     "output_type": "display_data"
    }
   ],
   "source": [
    "plt.figure()\n",
    "plt.bar(np.arange(data_pval.shape[1]), L_mape_colonnes2)"
   ]
  },
  {
   "cell_type": "markdown",
   "id": "33dd1504",
   "metadata": {},
   "source": [
    "Maintenant erreur vraiment hyper faible. On peut se permettre de prédire les na dans pvalues"
   ]
  },
  {
   "cell_type": "code",
   "execution_count": 24,
   "id": "fa265c32",
   "metadata": {},
   "outputs": [],
   "source": [
    "data_pval_naestim = data_pval # nouveau jeu de données ou on va remplacer na par estimations\n",
    "for k in range(data_pval.shape[1]): \n",
    "    #def des variables\n",
    "    X = data_logratio.iloc[np.where(~data_pval.iloc[:,k].isna() & ~data_logratio.iloc[:,k].isna())[0],k]\n",
    "    y = data_pval.iloc[np.where(~data_pval.iloc[:,k].isna() & ~data_logratio.iloc[:,k].isna())[0],k]\n",
    "    X_pred = data_logratio.iloc[np.where(data_pval.iloc[:,k].isna() & ~data_logratio.iloc[:,k].isna())[0],k]\n",
    "    X= X.to_numpy().reshape(-1, 1)\n",
    "    X_pred = X_pred.to_numpy().reshape(-1, 1)\n",
    "    mod = DecisionTreeRegressor()\n",
    "    mod.fit(X,y)\n",
    "    pval_pred = mod.predict(X_pred)\n",
    "    data_pval_naestim.iloc[np.where(data_pval.iloc[:,k].isna() & ~data_logratio.iloc[:,k].isna())[0],k]=pval_pred"
   ]
  },
  {
   "cell_type": "code",
   "execution_count": 25,
   "id": "f4c44c39",
   "metadata": {},
   "outputs": [
    {
     "name": "stdout",
     "output_type": "stream",
     "text": [
      "523\n"
     ]
    }
   ],
   "source": [
    "nombre_na_pval_naestim = data_pval_naestim.isna().values.sum() \n",
    "print(nombre_na_pval_naestim)"
   ]
  },
  {
   "cell_type": "markdown",
   "id": "cbccb270",
   "metadata": {},
   "source": [
    "On a bien 523 NA comme dans data logratio, donc tout va bien !"
   ]
  },
  {
   "cell_type": "markdown",
   "id": "3ca8f147",
   "metadata": {},
   "source": [
    "#### Suppression des dernières na\n",
    "\n",
    "On supprime les lignes contenant des NA (523 suppressions au maximum sur 17543 lignes, donc impact négligeable)"
   ]
  },
  {
   "cell_type": "code",
   "execution_count": 26,
   "id": "a67553b5",
   "metadata": {},
   "outputs": [
    {
     "name": "stdout",
     "output_type": "stream",
     "text": [
      "nombre de na dans logratio_clean :  0\n",
      "nombre de na dans pval_clean :  0\n",
      "Dimensions de logratio_clean :  (17219, 387)\n",
      "Dimensions de pval_clean :  (17219, 387)\n"
     ]
    },
    {
     "name": "stderr",
     "output_type": "stream",
     "text": [
      "/var/folders/z9/hld0mg912jxdyqjjhk0yp_qr0000gp/T/ipykernel_5644/2818091518.py:1: FutureWarning: In a future version of pandas all arguments of DataFrame.dropna will be keyword-only\n",
      "  logratio_clean = data_logratio.dropna(0)\n",
      "/var/folders/z9/hld0mg912jxdyqjjhk0yp_qr0000gp/T/ipykernel_5644/2818091518.py:2: FutureWarning: In a future version of pandas all arguments of DataFrame.dropna will be keyword-only\n",
      "  pval_clean = data_pval_naestim.dropna(0)\n"
     ]
    }
   ],
   "source": [
    "logratio_clean = data_logratio.dropna(0)\n",
    "pval_clean = data_pval_naestim.dropna(0)\n",
    "\n",
    "# vérifications finales : \n",
    "print(\"nombre de na dans logratio_clean : \", logratio_clean.isna().values.sum())\n",
    "print(\"nombre de na dans pval_clean : \", pval_clean.isna().values.sum())\n",
    "print(\"Dimensions de logratio_clean : \", logratio_clean.shape)\n",
    "print(\"Dimensions de pval_clean : \", pval_clean.shape)"
   ]
  },
  {
   "cell_type": "markdown",
   "id": "5c5e3ea8",
   "metadata": {},
   "source": [
    "## Classification des données d'expression en -1, 0, 1\n",
    "On veut simplifier les données de sous/surexpression. Nouveau jeu de données aux mêmes dimensions que logratio_clean et pval_clean : \n",
    "\n",
    "- -1 : pvalue <0.05 et logratio négatif\n",
    "- 1 : pvalue <0.05 et logratio positif\n",
    "- 0 sinon"
   ]
  },
  {
   "cell_type": "code",
   "execution_count": 64,
   "id": "608a7fa4",
   "metadata": {},
   "outputs": [],
   "source": [
    "#ATTENTION : Algo un peu long à faire tourner...  csv disponible dans une cellule en dessous\n",
    "data_expression_clean = logratio_clean.copy()\n",
    "for i in range(data_expression_clean.shape[0]):\n",
    "    for j in range(data_expression_clean.shape[1]):\n",
    "        if logratio_clean.iloc[i,j]<=0 and pval_clean.iloc[i,j]<0.05:\n",
    "            data_expression_clean.iloc[i,j] = int(-1)\n",
    "        elif logratio_clean.iloc[i,j]>=0 and pval_clean.iloc[i,j]<0.05:\n",
    "            data_expression_clean.iloc[i,j] = int(1)\n",
    "        else : \n",
    "            data_expression_clean.iloc[i,j] = int(0)"
   ]
  },
  {
   "cell_type": "code",
   "execution_count": 65,
   "id": "bcf2996b",
   "metadata": {},
   "outputs": [],
   "source": [
    "data_expression_clean.index = logratio_clean.index.copy()"
   ]
  },
  {
   "cell_type": "code",
   "execution_count": 66,
   "id": "fdaea717",
   "metadata": {},
   "outputs": [],
   "source": [
    "csv = data_expression_clean.to_csv(r'/Users/martinsimonoviez/Desktop/IODAA/cours/Projet_fil_rouge/expression_classifiee.csv', index=True)"
   ]
  },
  {
   "cell_type": "code",
   "execution_count": 30,
   "id": "d2e52ddb",
   "metadata": {},
   "outputs": [],
   "source": [
    "#Pour prendre le fichier csv directement: \n",
    "data_expression_clean = pd.read_csv(\"/Users/martinsimonoviez/Desktop/IODAA/cours/Projet_fil_rouge/expression_classifiee.csv\", sep=\",\")"
   ]
  },
  {
   "cell_type": "code",
   "execution_count": 67,
   "id": "e587cfcb",
   "metadata": {},
   "outputs": [
    {
     "name": "stdout",
     "output_type": "stream",
     "text": [
      "[-1.  0.  1.]\n",
      "(17219, 387)\n"
     ]
    }
   ],
   "source": [
    "print(np.unique(data_expression_clean))\n",
    "print(data_expression_clean.shape)"
   ]
  },
  {
   "cell_type": "markdown",
   "id": "3d08c7c3",
   "metadata": {},
   "source": [
    "Tout a l'air bon ! On pourrait passer en sparse"
   ]
  },
  {
   "cell_type": "markdown",
   "id": "9876f184",
   "metadata": {},
   "source": [
    "## Sélection des gènes communs aux 2 datasets. \n",
    "\n",
    "Comme nous allons étudions le lien entre présence de PLM et expression génétique, nous allons devoir sélectionner seulement les gènes présents dans data_PLM et data_expression_clean. "
   ]
  },
  {
   "cell_type": "code",
   "execution_count": 68,
   "id": "c235bcac",
   "metadata": {},
   "outputs": [
    {
     "name": "stdout",
     "output_type": "stream",
     "text": [
      "Nombre de gènes dans data_PLM :  13854\n",
      "Nombre de gènes dans data_expression_clean :  17219\n"
     ]
    }
   ],
   "source": [
    "#Combien de gènes dans les deux tableaux ? \n",
    "print(\"Nombre de gènes dans data_PLM : \", data_PLM.shape[0])\n",
    "print(\"Nombre de gènes dans data_expression_clean : \", data_expression_clean.shape[0])"
   ]
  },
  {
   "cell_type": "code",
   "execution_count": 69,
   "id": "90f96712",
   "metadata": {},
   "outputs": [
    {
     "name": "stdout",
     "output_type": "stream",
     "text": [
      "Nombre de gènes non propres à data_PLM :  3085\n"
     ]
    }
   ],
   "source": [
    "#est ce que data_PLM contient quand même des gènes que data_expression_clean ne contient pas ? \n",
    "print(\"Nombre de gènes non propres à data_PLM : \",list(data_PLM.index.isin(data_expression_clean.index)).count(False))"
   ]
  },
  {
   "cell_type": "markdown",
   "id": "4882840b",
   "metadata": {},
   "source": [
    "Même si data_PLM est plus petit, il contient 3085 gènes non répertoriés dans data_expression_clean. Nous allons donc procéder en 2 étapes pour garder seulement les éléments en commun aux deux dataframes : \n",
    "- Data_PLM_final :  Suppression des gènes de data_PLM non répertoriés dans data_expression_clean\n",
    "- Data_expression_final : Suppression des gènes de data_expression non répertoriés dans data_PLM_final"
   ]
  },
  {
   "cell_type": "code",
   "execution_count": 70,
   "id": "e37a3a55",
   "metadata": {},
   "outputs": [
    {
     "name": "stdout",
     "output_type": "stream",
     "text": [
      "Dimensions de data_PLM_final :  (10769, 178)\n",
      "Dimensions de data_expression_final :  (10769, 387)\n",
      "5 premiers gènes de data_PLM_final :  Index(['AT5G09440', 'AT5G59570', 'AT3G16140', 'AT5G64430', 'AT5G47550'], dtype='object')\n",
      "5 premiers gènes de data_expression_final :  Index(['AT5G09440', 'AT5G59570', 'AT3G16140', 'AT5G64430', 'AT5G47550'], dtype='object')\n",
      "index identiques :  [False]\n",
      "index identiques :  [ True]\n"
     ]
    }
   ],
   "source": [
    "#Création de data_PLM_final : \n",
    "data_PLM_final = data_PLM.loc[data_PLM.index.isin(data_expression_clean.index),:]\n",
    "#Creation de data_expression_final\n",
    "data_expression_final = data_expression_clean.loc[data_expression_clean.index.isin(data_PLM_final.index),:]\n",
    "\n",
    "#Vérifications des dimensions : \n",
    "print(\"Dimensions de data_PLM_final : \", data_PLM_final.shape)\n",
    "print(\"Dimensions de data_expression_final : \", data_expression_final.shape)\n",
    "\n",
    "#Vérification des premiers éléments : \n",
    "print(\"5 premiers gènes de data_PLM_final : \", data_PLM_final.index[:5])\n",
    "print(\"5 premiers gènes de data_expression_final : \", data_PLM_final.index[:5])\n",
    "\n",
    "#vérification comme quoi index sont bien identiques et triés pareils\n",
    "print(\"index identiques : \", np.unique(data_PLM_final.index==data_expression_final.index))\n",
    "\n",
    "#apparement pas trié pareil... On trie \n",
    "data_PLM_final=data_PLM_final.sort_index(axis=0)\n",
    "data_expression_final=data_expression_final.sort_index(axis=0)\n",
    "\n",
    "#revérification comme quoi index sont bien identiques et triés pareils\n",
    "print(\"index identiques : \",np.unique(data_PLM_final.index==data_expression_final.index))"
   ]
  },
  {
   "cell_type": "code",
   "execution_count": 71,
   "id": "6354720e",
   "metadata": {},
   "outputs": [],
   "source": [
    "#Création des csv associés, expression_final.csv et PLM_final.csv\n",
    "data_expression_final.to_csv(r'/Users/martinsimonoviez/Desktop/IODAA/cours/Projet_fil_rouge/expression_final.csv', index=True)\n",
    "data_PLM_final.to_csv(r'/Users/martinsimonoviez/Desktop/IODAA/cours/Projet_fil_rouge/PLM_final.csv', index=True)"
   ]
  }
 ],
 "metadata": {
  "kernelspec": {
   "display_name": "Python 3 (ipykernel)",
   "language": "python",
   "name": "python3"
  },
  "language_info": {
   "codemirror_mode": {
    "name": "ipython",
    "version": 3
   },
   "file_extension": ".py",
   "mimetype": "text/x-python",
   "name": "python",
   "nbconvert_exporter": "python",
   "pygments_lexer": "ipython3",
   "version": "3.9.7"
  }
 },
 "nbformat": 4,
 "nbformat_minor": 5
}
